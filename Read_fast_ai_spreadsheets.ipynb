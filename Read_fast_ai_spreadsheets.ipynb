{
 "nbformat": 4,
 "nbformat_minor": 0,
 "metadata": {
  "colab": {
   "name": "Read fast.ai spreadsheets.ipynb",
   "provenance": [],
   "collapsed_sections": []
  },
  "kernelspec": {
   "name": "python3",
   "display_name": "Python 3"
  }
 },
 "cells": [
  {
   "cell_type": "code",
   "metadata": {
    "id": "mKaIFIz17_bY",
    "colab": {
     "base_uri": "https://localhost:8080/",
     "height": 102
    },
    "outputId": "3cc96680-c999-49f2-e2d7-88b5137f272f",
    "pycharm": {
     "name": "#%%\n"
    }
   },
   "source": [],
   "execution_count": null,
   "outputs": [
    {
     "output_type": "stream",
     "text": [
      "Cloning into 'courses'...\n",
      "remote: Counting objects: 765, done.\u001B[K\n",
      "remote: Total 765 (delta 0), reused 0 (delta 0), pack-reused 765\u001B[K\n",
      "Receiving objects: 100% (765/765), 22.40 MiB | 34.28 MiB/s, done.\n",
      "Resolving deltas: 100% (409/409), done.\n"
     ],
     "name": "stdout"
    }
   ]
  }
 ]
}