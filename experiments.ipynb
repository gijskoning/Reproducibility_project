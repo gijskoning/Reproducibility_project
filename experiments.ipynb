{
 "cells": [
  {
   "cell_type": "code",
   "execution_count": 5,
   "metadata": {
    "pycharm": {
     "name": "#%%\n"
    }
   },
   "outputs": [],
   "source": [
    "from main import Main"
   ]
  },
  {
   "cell_type": "markdown",
   "metadata": {
    "pycharm": {
     "name": "#%% md\n"
    }
   },
   "source": [
    "Multiple experiments need to be tried out. This notebook will be used to document the whole process.\n",
    "\n",
    "First starting with the basic FNN on Warehouse.\n",
    "Parameters: num_fc_units: [640, 256]\n",
    "\n",
    "log files and model:\n",
    "output03-29-2021-18-07-36.txt\n",
    "Warehouse_03-29-2021-18-07-36.pt\n",
    "\n",
    "command: `main.py --env-name \"Warehouse\" --yaml-file FNN --algo ppo --use-gae --lr 2.5e-4 --clip-param 0.1 --value-loss-coef 1 --num-processes 8 --num-steps 4 --num-mini-batch 32 --log-interval 30 --use-linear-lr-decay --entropy-coef 0.01  --cuda-deterministic`\n"
   ]
  },
  {
   "cell_type": "code",
   "execution_count": 5,
   "metadata": {
    "pycharm": {
     "name": "#%%\n"
    }
   },
   "outputs": [],
   "source": []
  },
  {
   "cell_type": "markdown",
   "metadata": {},
   "source": [
    "LSTM network on Warehouse\n",
    "Parameters: num_fc_units: [640]"
   ]
  },
  {
   "cell_type": "code",
   "execution_count": 5,
   "metadata": {
    "pycharm": {
     "name": "#%%\n"
    }
   },
   "outputs": [],
   "source": []
  },
  {
   "cell_type": "markdown",
   "metadata": {
    "pycharm": {
     "name": "#%% md\n"
    }
   },
   "source": [
    "IAM network on Warehouse\n",
    "\n",
    "Parameters: num_fc_units: [512, 256], rnn_units: [128]\n",
    "(num-processes should be equal to num-mini-batch)\n",
    "command: `main.py --env-name \"Warehouse\" --yaml-file IAM_static --recurrent-policy --num-processes 8 --num-steps 8 --num-mini-batch 8 --log-interval 30 --use-linear-lr-decay --entropy-coef 0.01 --algo ppo --use-gae --lr 2.5e-4 --clip-param 0.1 --value-loss-coef 1  --cuda-deterministic`"
   ]
  },
  {
   "cell_type": "code",
   "execution_count": 6,
   "metadata": {
    "pycharm": {
     "name": "#%%\n"
    }
   },
   "outputs": [
    {
     "name": "stdout",
     "output_type": "stream",
     "text": [
      "Currently using configfile:  configs/warehouse/IAM_static.yaml\n",
      "Log file:  data/output03-31-2021-10-23-01.txt\n",
      "Starting new run: with args Namespace(algo='ppo', alpha=0.99, clip_param=0.1, cuda=True, cuda_deterministic=False, entropy_coef=0.01, env_name='Warehouse', eps=1e-05, eval_interval=None, gae_lambda=0.95, gail=False, gail_batch_size=128, gail_epoch=5, gail_experts_dir='./gail_experts', gamma=0.99, log_dir='/tmp/gym/', log_interval=30, lr=0.00025, max_grad_norm=0.5, no_cuda=False, num_env_steps=10000000.0, num_mini_batch=1, num_processes=1, num_steps=8, ppo_epoch=4, recurrent_policy=True, save_dir='./trained_models/', save_interval=100, seed=1, use_gae=True, use_linear_lr_decay=True, use_proper_time_limits=False, value_loss_coef=1.0, yaml_file='IAM_static')\n",
      "And parameters: {'env_type': 'warehouse', 'num_frames': 1, 'num_fc_layers': 2, 'num_fc_units': [512, 256], 'influence': True, 'attention': False, 'automatic_dpatch': False, 'manual_dpatch': True, 'inf_num_predictors': 73, 'dset': [0, 1, 2, 3, 4, 5, 6, 7, 8, 9, 10, 11, 12, 13, 14, 15, 16, 17, 18, 19, 20, 21, 22, 23, 24, 25, 26, 27, 28, 29, 30, 31, 32, 33, 34, 35, 36, 37, 38, 39, 40, 41, 42, 43, 44, 45, 46, 47, 48, 49, 50, 51, 52, 53, 54, 55, 56, 57, 58, 59, 60, 61, 62, 63, 64, 65, 66, 67, 68, 69, 70, 71, 72], 'inf_num_rec_units': 128, 'inf_seq_len': 8}\n"
     ]
    }
   ],
   "source": [
    "# import sys\n",
    "args = \"--env-name Warehouse --yaml-file IAM_static --recurrent-policy --num-processes 1 --num-steps 8 --num-mini-batch 1 --log-interval 30 --use-linear-lr-decay --entropy-coef 0.01 --algo ppo --use-gae --lr 2.5e-4 --clip-param 0.1 --value-loss-coef 1\"\n",
    "arg_list = args.split(\" \")\n",
    "main = Main(arg_list)"
   ]
  },
  {
   "cell_type": "code",
   "execution_count": null,
   "metadata": {
    "pycharm": {
     "name": "#%%\n",
     "is_executing": true
    }
   },
   "outputs": [
    {
     "name": "stdout",
     "output_type": "stream",
     "text": [
      "CUDA is available:  True\n",
      "CUDA disabled\n",
      "Using Warehouse environment\n",
      "discrete\n",
      "Updates 0, num timesteps 8, FPS 102 \n",
      " Last 8 training episodes: mean/median reward 0.1/0.0, min/max reward 0.0/1.0\n",
      "\n",
      "Updates 30, num timesteps 248, FPS 115 \n",
      " Last 30 training episodes: mean/median reward 0.2/0.0, min/max reward 0.0/1.0\n",
      "\n",
      "Updates 60, num timesteps 488, FPS 113 \n",
      " Last 30 training episodes: mean/median reward 0.2/0.0, min/max reward 0.0/1.0\n",
      "\n",
      "Updates 90, num timesteps 728, FPS 113 \n",
      " Last 30 training episodes: mean/median reward 0.1/0.0, min/max reward 0.0/1.0\n",
      "\n",
      "Updates 120, num timesteps 968, FPS 114 \n",
      " Last 30 training episodes: mean/median reward 0.1/0.0, min/max reward 0.0/1.0\n",
      "\n",
      "Updates 150, num timesteps 1208, FPS 114 \n",
      " Last 30 training episodes: mean/median reward 0.1/0.0, min/max reward 0.0/1.0\n",
      "\n",
      "Updates 180, num timesteps 1448, FPS 114 \n",
      " Last 30 training episodes: mean/median reward 0.1/0.0, min/max reward 0.0/1.0\n",
      "\n",
      "Updates 210, num timesteps 1688, FPS 114 \n",
      " Last 30 training episodes: mean/median reward 0.1/0.0, min/max reward 0.0/1.0\n",
      "\n",
      "Updates 240, num timesteps 1928, FPS 113 \n",
      " Last 30 training episodes: mean/median reward 0.0/0.0, min/max reward 0.0/1.0\n",
      "\n",
      "Updates 270, num timesteps 2168, FPS 113 \n",
      " Last 30 training episodes: mean/median reward 0.4/0.0, min/max reward 0.0/1.0\n",
      "\n",
      "Updates 300, num timesteps 2408, FPS 113 \n",
      " Last 30 training episodes: mean/median reward 0.2/0.0, min/max reward 0.0/1.0\n",
      "\n",
      "Updates 330, num timesteps 2648, FPS 113 \n",
      " Last 30 training episodes: mean/median reward 0.1/0.0, min/max reward 0.0/1.0\n",
      "\n",
      "Updates 360, num timesteps 2888, FPS 112 \n",
      " Last 30 training episodes: mean/median reward 0.1/0.0, min/max reward 0.0/1.0\n",
      "\n",
      "Updates 390, num timesteps 3128, FPS 112 \n",
      " Last 30 training episodes: mean/median reward 0.1/0.0, min/max reward 0.0/1.0\n",
      "\n",
      "Updates 420, num timesteps 3368, FPS 111 \n",
      " Last 30 training episodes: mean/median reward 0.1/0.0, min/max reward 0.0/1.0\n",
      "\n",
      "Updates 450, num timesteps 3608, FPS 112 \n",
      " Last 30 training episodes: mean/median reward 0.1/0.0, min/max reward 0.0/1.0\n",
      "\n",
      "Updates 480, num timesteps 3848, FPS 112 \n",
      " Last 30 training episodes: mean/median reward 0.0/0.0, min/max reward 0.0/0.0\n",
      "\n",
      "Updates 510, num timesteps 4088, FPS 112 \n",
      " Last 30 training episodes: mean/median reward 0.1/0.0, min/max reward 0.0/1.0\n",
      "\n",
      "Updates 540, num timesteps 4328, FPS 112 \n",
      " Last 30 training episodes: mean/median reward 0.1/0.0, min/max reward 0.0/1.0\n",
      "\n",
      "Updates 570, num timesteps 4568, FPS 112 \n",
      " Last 30 training episodes: mean/median reward 0.2/0.0, min/max reward 0.0/1.0\n",
      "\n",
      "Updates 600, num timesteps 4808, FPS 112 \n",
      " Last 30 training episodes: mean/median reward 0.1/0.0, min/max reward 0.0/1.0\n",
      "\n",
      "Updates 630, num timesteps 5048, FPS 112 \n",
      " Last 30 training episodes: mean/median reward 0.2/0.0, min/max reward 0.0/1.0\n",
      "\n",
      "Updates 660, num timesteps 5288, FPS 112 \n",
      " Last 30 training episodes: mean/median reward 0.2/0.0, min/max reward 0.0/1.0\n",
      "\n",
      "Updates 690, num timesteps 5528, FPS 112 \n",
      " Last 30 training episodes: mean/median reward 0.1/0.0, min/max reward 0.0/1.0\n",
      "\n"
     ]
    }
   ],
   "source": [
    "main.run()\n"
   ]
  }
 ],
 "metadata": {
  "accelerator": "GPU",
  "colab": {
   "collapsed_sections": [],
   "name": "Kopie van Assignment_4.ipynb",
   "provenance": [],
   "toc_visible": true
  },
  "kernelspec": {
   "display_name": "Python 3",
   "language": "python",
   "name": "python3"
  },
  "language_info": {
   "codemirror_mode": {
    "name": "ipython",
    "version": 3
   },
   "file_extension": ".py",
   "mimetype": "text/x-python",
   "name": "python",
   "nbconvert_exporter": "python",
   "pygments_lexer": "ipython3",
   "version": "3.8.6"
  }
 },
 "nbformat": 4,
 "nbformat_minor": 1
}