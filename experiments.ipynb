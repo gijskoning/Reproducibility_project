{
 "nbformat": 4,
 "nbformat_minor": 0,
 "metadata": {
  "accelerator": "GPU",
  "colab": {
   "name": "Kopie van Assignment_4.ipynb",
   "provenance": [],
   "collapsed_sections": [],
   "toc_visible": true
  },
  "kernelspec": {
   "name": "python3",
   "language": "python",
   "display_name": "Python 3"
  }
 },
 "cells": [
  {
   "cell_type": "markdown",
   "source": [
    "Multiple experiments need to be tried out. This notebook will be used to document the whole process.\n",
    "\n",
    "First starting with the basic FNN on Warehouse.\n",
    "Parameters: num_fc_units: [640, 256]"
   ],
   "metadata": {
    "collapsed": false,
    "pycharm": {
     "name": "#%% md\n"
    }
   }
  }
 ]
}