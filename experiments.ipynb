{
 "cells": [
  {
   "cell_type": "code",
   "execution_count": 26,
   "metadata": {
    "pycharm": {
     "name": "#%%\n"
    }
   },
   "outputs": [],
   "source": [
    "from main import Main\n",
    "from plot_data import plot_data, plot_runs\n",
    "import matplotlib.pyplot as plt"
   ]
  },
  {
   "cell_type": "markdown",
   "metadata": {
    "pycharm": {
     "name": "#%% md\n"
    }
   },
   "source": [
    "Multiple experiments need to be tried out. This notebook will be used to document the whole process.\n",
    "\n",
    "First starting with the basic FNN on Warehouse.\n",
    "Parameters: num_fc_units: [640, 256]\n",
    "\n",
    "log files and model:\n",
    "output03-29-2021-18-07-36.txt\n",
    "Warehouse_03-29-2021-18-07-36.pt\n",
    "\n",
    "command: `main.py --env-name \"Warehouse\" --yaml-file FNN --algo ppo --use-gae --lr 2.5e-4 --clip-param 0.1 --value-loss-coef 1 --num-processes 8 --num-steps 4 --num-mini-batch 32 --log-interval 30 --use-linear-lr-decay --entropy-coef 0.01  --cuda-deterministic`\n"
   ]
  },
  {
   "cell_type": "code",
   "execution_count": 26,
   "metadata": {
    "pycharm": {
     "name": "#%%\n"
    }
   },
   "outputs": [],
   "source": []
  },
  {
   "cell_type": "markdown",
   "metadata": {},
   "source": [
    "LSTM network on Warehouse\n",
    "Parameters: num_fc_units: [640]"
   ]
  },
  {
   "cell_type": "code",
   "execution_count": 26,
   "metadata": {
    "pycharm": {
     "name": "#%%\n"
    }
   },
   "outputs": [],
   "source": []
  },
  {
   "cell_type": "markdown",
   "metadata": {
    "pycharm": {
     "name": "#%% md\n"
    }
   },
   "source": [
    "IAM network on Warehouse (Didn't have the A matrix yet)\n",
    "\n",
    "Parameters: num_fc_units: [512, 256], rnn_units: [128]\n",
    "(num-processes should be equal to num-mini-batch)\n",
    "command: `main.py --env-name \"Warehouse\" --yaml-file IAM_static --recurrent-policy --num-processes 8 --num-steps 8 --num-mini-batch 8 --log-interval 30 --use-linear-lr-decay --entropy-coef 0.01 --algo ppo --use-gae --lr 2.5e-4 --clip-param 0.1 --value-loss-coef 1  --cuda-deterministic`"
   ]
  },
  {
   "cell_type": "code",
   "execution_count": 27,
   "metadata": {
    "pycharm": {
     "name": "#%%\n"
    }
   },
   "outputs": [
    {
     "name": "stdout",
     "output_type": "stream",
     "text": [
      "Currently using configfile:  configs/warehouse/IAM_static.yaml\n",
      "Log file:  data/output04-10-2021-14-39-38.txt\n",
      "Starting new run: with args Namespace(algo='ppo', alpha=0.99, clip_param=0.1, cuda=False, cuda_deterministic=False, entropy_coef=0.01, env_name='Warehouse', eps=1e-05, eval_interval=None, fnn_hidden_sizes=[512, 256], gae_lambda=0.95, gail=False, gail_batch_size=128, gail_epoch=5, gail_experts_dir='./gail_experts', gamma=0.99, log_dir='/tmp/gym/', log_interval=30, lr=0.00025, max_grad_norm=0.5, num_env_steps=4000000.0, num_mini_batch=1, num_processes=1, num_steps=8, ppo_epoch=4, rec_hidden_size=None, recurrent_policy=True, save_dir='./trained_models/', save_interval=100, seed=1, use_gae=True, use_linear_lr_decay=True, use_proper_time_limits=False, value_loss_coef=1.0, yaml_file='IAM_static')\n",
      "And parameters: {'env_type': 'warehouse', 'num_frames': 1, 'influence': True, 'attention': False, 'automatic_dpatch': False, 'manual_dpatch': True, 'inf_num_predictors': 73, 'dset': [0, 1, 2, 3, 4, 5, 6, 7, 8, 9, 10, 11, 12, 13, 14, 15, 16, 17, 18, 19, 20, 21, 22, 23, 24, 25, 26, 27, 28, 29, 30, 31, 32, 33, 34, 35, 36, 37, 38, 39, 40, 41, 42, 43, 44, 45, 46, 47, 48, 49, 50, 51, 52, 53, 54, 55, 56, 57, 58, 59, 60, 61, 62, 63, 64, 65, 66, 67, 68, 69, 70, 71, 72], 'inf_seq_len': 8}\n",
      "CUDA is available:  True\n",
      "CUDA disabled\n",
      "get_num_thread 6\n",
      "Using Warehouse environment\n",
      "Using IAMBase\n",
      "discrete\n",
      "Updates 0, num timesteps 8, FPS 55, elapsed time 0 sec \n",
      " Last 8 training episodes: mean/median reward 0.12/0.00, min/max reward 0.0/1.0\n",
      "\n",
      "Updates 30, num timesteps 248, FPS 161, elapsed time 1 sec \n",
      " Last 100 training episodes: mean/median reward 0.09/0.00, min/max reward 0.0/1.0\n",
      "\n"
     ]
    },
    {
     "ename": "KeyboardInterrupt",
     "evalue": "",
     "output_type": "error",
     "traceback": [
      "\u001B[1;31m---------------------------------------------------------------------------\u001B[0m",
      "\u001B[1;31mKeyboardInterrupt\u001B[0m                         Traceback (most recent call last)",
      "\u001B[1;32m<ipython-input-27-69e50c63354c>\u001B[0m in \u001B[0;36m<module>\u001B[1;34m\u001B[0m\n\u001B[0;32m      2\u001B[0m \u001B[0marg_list\u001B[0m \u001B[1;33m=\u001B[0m \u001B[0margs\u001B[0m\u001B[1;33m.\u001B[0m\u001B[0msplit\u001B[0m\u001B[1;33m(\u001B[0m\u001B[1;34m\" \"\u001B[0m\u001B[1;33m)\u001B[0m\u001B[1;33m\u001B[0m\u001B[1;33m\u001B[0m\u001B[0m\n\u001B[0;32m      3\u001B[0m \u001B[0mmain\u001B[0m \u001B[1;33m=\u001B[0m \u001B[0mMain\u001B[0m\u001B[1;33m(\u001B[0m\u001B[0marg_list\u001B[0m\u001B[1;33m)\u001B[0m\u001B[1;33m\u001B[0m\u001B[1;33m\u001B[0m\u001B[0m\n\u001B[1;32m----> 4\u001B[1;33m \u001B[0mmain\u001B[0m\u001B[1;33m.\u001B[0m\u001B[0mrun\u001B[0m\u001B[1;33m(\u001B[0m\u001B[1;33m)\u001B[0m\u001B[1;33m\u001B[0m\u001B[1;33m\u001B[0m\u001B[0m\n\u001B[0m\u001B[0;32m      5\u001B[0m \u001B[1;33m\u001B[0m\u001B[0m\n",
      "\u001B[1;32m~\\Code_projects\\DeepLearning_Reproducibility_project\\main.py\u001B[0m in \u001B[0;36mrun\u001B[1;34m(self)\u001B[0m\n\u001B[0;32m    210\u001B[0m                                      args.gae_lambda, args.use_proper_time_limits)\n\u001B[0;32m    211\u001B[0m \u001B[1;33m\u001B[0m\u001B[0m\n\u001B[1;32m--> 212\u001B[1;33m             \u001B[0mvalue_loss\u001B[0m\u001B[1;33m,\u001B[0m \u001B[0maction_loss\u001B[0m\u001B[1;33m,\u001B[0m \u001B[0mdist_entropy\u001B[0m \u001B[1;33m=\u001B[0m \u001B[0magent\u001B[0m\u001B[1;33m.\u001B[0m\u001B[0mupdate\u001B[0m\u001B[1;33m(\u001B[0m\u001B[0mrollouts\u001B[0m\u001B[1;33m)\u001B[0m\u001B[1;33m\u001B[0m\u001B[1;33m\u001B[0m\u001B[0m\n\u001B[0m\u001B[0;32m    213\u001B[0m \u001B[1;33m\u001B[0m\u001B[0m\n\u001B[0;32m    214\u001B[0m             \u001B[0mrollouts\u001B[0m\u001B[1;33m.\u001B[0m\u001B[0mafter_update\u001B[0m\u001B[1;33m(\u001B[0m\u001B[1;33m)\u001B[0m\u001B[1;33m\u001B[0m\u001B[1;33m\u001B[0m\u001B[0m\n",
      "\u001B[1;32m~\\Code_projects\\DeepLearning_Reproducibility_project\\a2c_ppo_acktr\\algo\\ppo.py\u001B[0m in \u001B[0;36mupdate\u001B[1;34m(self, rollouts)\u001B[0m\n\u001B[0;32m     55\u001B[0m \u001B[1;33m\u001B[0m\u001B[0m\n\u001B[0;32m     56\u001B[0m                 \u001B[1;31m# Reshape to do in a single forward pass for all steps\u001B[0m\u001B[1;33m\u001B[0m\u001B[1;33m\u001B[0m\u001B[1;33m\u001B[0m\u001B[0m\n\u001B[1;32m---> 57\u001B[1;33m                 values, action_log_probs, dist_entropy, _ = self.actor_critic.evaluate_actions(\n\u001B[0m\u001B[0;32m     58\u001B[0m                     \u001B[0mobs_batch\u001B[0m\u001B[1;33m,\u001B[0m \u001B[0mrecurrent_hidden_states_batch\u001B[0m\u001B[1;33m,\u001B[0m \u001B[0mmasks_batch\u001B[0m\u001B[1;33m,\u001B[0m\u001B[1;33m\u001B[0m\u001B[1;33m\u001B[0m\u001B[0m\n\u001B[0;32m     59\u001B[0m                     actions_batch)\n",
      "\u001B[1;32m~\\Code_projects\\DeepLearning_Reproducibility_project\\reproduction_model.py\u001B[0m in \u001B[0;36mevaluate_actions\u001B[1;34m(self, inputs, rnn_hxs, masks, action)\u001B[0m\n\u001B[0;32m     90\u001B[0m     \u001B[1;32mdef\u001B[0m \u001B[0mevaluate_actions\u001B[0m\u001B[1;33m(\u001B[0m\u001B[0mself\u001B[0m\u001B[1;33m,\u001B[0m \u001B[0minputs\u001B[0m\u001B[1;33m,\u001B[0m \u001B[0mrnn_hxs\u001B[0m\u001B[1;33m,\u001B[0m \u001B[0mmasks\u001B[0m\u001B[1;33m,\u001B[0m \u001B[0maction\u001B[0m\u001B[1;33m)\u001B[0m\u001B[1;33m:\u001B[0m\u001B[1;33m\u001B[0m\u001B[1;33m\u001B[0m\u001B[0m\n\u001B[0;32m     91\u001B[0m         \u001B[0mvalue\u001B[0m\u001B[1;33m,\u001B[0m \u001B[0mactor_features\u001B[0m\u001B[1;33m,\u001B[0m \u001B[0mrnn_hxs\u001B[0m \u001B[1;33m=\u001B[0m \u001B[0mself\u001B[0m\u001B[1;33m.\u001B[0m\u001B[0mbase\u001B[0m\u001B[1;33m(\u001B[0m\u001B[0minputs\u001B[0m\u001B[1;33m,\u001B[0m \u001B[0mrnn_hxs\u001B[0m\u001B[1;33m,\u001B[0m \u001B[0mmasks\u001B[0m\u001B[1;33m)\u001B[0m\u001B[1;33m\u001B[0m\u001B[1;33m\u001B[0m\u001B[0m\n\u001B[1;32m---> 92\u001B[1;33m         \u001B[0mdist\u001B[0m \u001B[1;33m=\u001B[0m \u001B[0mself\u001B[0m\u001B[1;33m.\u001B[0m\u001B[0mdist\u001B[0m\u001B[1;33m(\u001B[0m\u001B[0mactor_features\u001B[0m\u001B[1;33m)\u001B[0m\u001B[1;33m\u001B[0m\u001B[1;33m\u001B[0m\u001B[0m\n\u001B[0m\u001B[0;32m     93\u001B[0m \u001B[1;33m\u001B[0m\u001B[0m\n\u001B[0;32m     94\u001B[0m         \u001B[0maction_log_probs\u001B[0m \u001B[1;33m=\u001B[0m \u001B[0mdist\u001B[0m\u001B[1;33m.\u001B[0m\u001B[0mlog_probs\u001B[0m\u001B[1;33m(\u001B[0m\u001B[0maction\u001B[0m\u001B[1;33m)\u001B[0m\u001B[1;33m\u001B[0m\u001B[1;33m\u001B[0m\u001B[0m\n",
      "\u001B[1;32mc:\\users\\gijs-\\documents\\code_projects\\study\\deep_learning\\venv\\lib\\site-packages\\torch\\nn\\modules\\module.py\u001B[0m in \u001B[0;36m_call_impl\u001B[1;34m(self, *input, **kwargs)\u001B[0m\n\u001B[0;32m    887\u001B[0m             \u001B[0mresult\u001B[0m \u001B[1;33m=\u001B[0m \u001B[0mself\u001B[0m\u001B[1;33m.\u001B[0m\u001B[0m_slow_forward\u001B[0m\u001B[1;33m(\u001B[0m\u001B[1;33m*\u001B[0m\u001B[0minput\u001B[0m\u001B[1;33m,\u001B[0m \u001B[1;33m**\u001B[0m\u001B[0mkwargs\u001B[0m\u001B[1;33m)\u001B[0m\u001B[1;33m\u001B[0m\u001B[1;33m\u001B[0m\u001B[0m\n\u001B[0;32m    888\u001B[0m         \u001B[1;32melse\u001B[0m\u001B[1;33m:\u001B[0m\u001B[1;33m\u001B[0m\u001B[1;33m\u001B[0m\u001B[0m\n\u001B[1;32m--> 889\u001B[1;33m             \u001B[0mresult\u001B[0m \u001B[1;33m=\u001B[0m \u001B[0mself\u001B[0m\u001B[1;33m.\u001B[0m\u001B[0mforward\u001B[0m\u001B[1;33m(\u001B[0m\u001B[1;33m*\u001B[0m\u001B[0minput\u001B[0m\u001B[1;33m,\u001B[0m \u001B[1;33m**\u001B[0m\u001B[0mkwargs\u001B[0m\u001B[1;33m)\u001B[0m\u001B[1;33m\u001B[0m\u001B[1;33m\u001B[0m\u001B[0m\n\u001B[0m\u001B[0;32m    890\u001B[0m         for hook in itertools.chain(\n\u001B[0;32m    891\u001B[0m                 \u001B[0m_global_forward_hooks\u001B[0m\u001B[1;33m.\u001B[0m\u001B[0mvalues\u001B[0m\u001B[1;33m(\u001B[0m\u001B[1;33m)\u001B[0m\u001B[1;33m,\u001B[0m\u001B[1;33m\u001B[0m\u001B[1;33m\u001B[0m\u001B[0m\n",
      "\u001B[1;32m~\\Code_projects\\DeepLearning_Reproducibility_project\\a2c_ppo_acktr\\distributions.py\u001B[0m in \u001B[0;36mforward\u001B[1;34m(self, x)\u001B[0m\n\u001B[0;32m     71\u001B[0m     \u001B[1;32mdef\u001B[0m \u001B[0mforward\u001B[0m\u001B[1;33m(\u001B[0m\u001B[0mself\u001B[0m\u001B[1;33m,\u001B[0m \u001B[0mx\u001B[0m\u001B[1;33m)\u001B[0m\u001B[1;33m:\u001B[0m\u001B[1;33m\u001B[0m\u001B[1;33m\u001B[0m\u001B[0m\n\u001B[0;32m     72\u001B[0m         \u001B[0mx\u001B[0m \u001B[1;33m=\u001B[0m \u001B[0mself\u001B[0m\u001B[1;33m.\u001B[0m\u001B[0mlinear\u001B[0m\u001B[1;33m(\u001B[0m\u001B[0mx\u001B[0m\u001B[1;33m)\u001B[0m\u001B[1;33m\u001B[0m\u001B[1;33m\u001B[0m\u001B[0m\n\u001B[1;32m---> 73\u001B[1;33m         \u001B[1;32mreturn\u001B[0m \u001B[0mFixedCategorical\u001B[0m\u001B[1;33m(\u001B[0m\u001B[0mlogits\u001B[0m\u001B[1;33m=\u001B[0m\u001B[0mx\u001B[0m\u001B[1;33m)\u001B[0m\u001B[1;33m\u001B[0m\u001B[1;33m\u001B[0m\u001B[0m\n\u001B[0m\u001B[0;32m     74\u001B[0m \u001B[1;33m\u001B[0m\u001B[0m\n\u001B[0;32m     75\u001B[0m \u001B[1;33m\u001B[0m\u001B[0m\n",
      "\u001B[1;32mc:\\users\\gijs-\\documents\\code_projects\\study\\deep_learning\\venv\\lib\\site-packages\\torch\\distributions\\categorical.py\u001B[0m in \u001B[0;36m__init__\u001B[1;34m(self, probs, logits, validate_args)\u001B[0m\n\u001B[0;32m     62\u001B[0m         \u001B[0mself\u001B[0m\u001B[1;33m.\u001B[0m\u001B[0m_num_events\u001B[0m \u001B[1;33m=\u001B[0m \u001B[0mself\u001B[0m\u001B[1;33m.\u001B[0m\u001B[0m_param\u001B[0m\u001B[1;33m.\u001B[0m\u001B[0msize\u001B[0m\u001B[1;33m(\u001B[0m\u001B[1;33m)\u001B[0m\u001B[1;33m[\u001B[0m\u001B[1;33m-\u001B[0m\u001B[1;36m1\u001B[0m\u001B[1;33m]\u001B[0m\u001B[1;33m\u001B[0m\u001B[1;33m\u001B[0m\u001B[0m\n\u001B[0;32m     63\u001B[0m         \u001B[0mbatch_shape\u001B[0m \u001B[1;33m=\u001B[0m \u001B[0mself\u001B[0m\u001B[1;33m.\u001B[0m\u001B[0m_param\u001B[0m\u001B[1;33m.\u001B[0m\u001B[0msize\u001B[0m\u001B[1;33m(\u001B[0m\u001B[1;33m)\u001B[0m\u001B[1;33m[\u001B[0m\u001B[1;33m:\u001B[0m\u001B[1;33m-\u001B[0m\u001B[1;36m1\u001B[0m\u001B[1;33m]\u001B[0m \u001B[1;32mif\u001B[0m \u001B[0mself\u001B[0m\u001B[1;33m.\u001B[0m\u001B[0m_param\u001B[0m\u001B[1;33m.\u001B[0m\u001B[0mndimension\u001B[0m\u001B[1;33m(\u001B[0m\u001B[1;33m)\u001B[0m \u001B[1;33m>\u001B[0m \u001B[1;36m1\u001B[0m \u001B[1;32melse\u001B[0m \u001B[0mtorch\u001B[0m\u001B[1;33m.\u001B[0m\u001B[0mSize\u001B[0m\u001B[1;33m(\u001B[0m\u001B[1;33m)\u001B[0m\u001B[1;33m\u001B[0m\u001B[1;33m\u001B[0m\u001B[0m\n\u001B[1;32m---> 64\u001B[1;33m         \u001B[0msuper\u001B[0m\u001B[1;33m(\u001B[0m\u001B[0mCategorical\u001B[0m\u001B[1;33m,\u001B[0m \u001B[0mself\u001B[0m\u001B[1;33m)\u001B[0m\u001B[1;33m.\u001B[0m\u001B[0m__init__\u001B[0m\u001B[1;33m(\u001B[0m\u001B[0mbatch_shape\u001B[0m\u001B[1;33m,\u001B[0m \u001B[0mvalidate_args\u001B[0m\u001B[1;33m=\u001B[0m\u001B[0mvalidate_args\u001B[0m\u001B[1;33m)\u001B[0m\u001B[1;33m\u001B[0m\u001B[1;33m\u001B[0m\u001B[0m\n\u001B[0m\u001B[0;32m     65\u001B[0m \u001B[1;33m\u001B[0m\u001B[0m\n\u001B[0;32m     66\u001B[0m     \u001B[1;32mdef\u001B[0m \u001B[0mexpand\u001B[0m\u001B[1;33m(\u001B[0m\u001B[0mself\u001B[0m\u001B[1;33m,\u001B[0m \u001B[0mbatch_shape\u001B[0m\u001B[1;33m,\u001B[0m \u001B[0m_instance\u001B[0m\u001B[1;33m=\u001B[0m\u001B[1;32mNone\u001B[0m\u001B[1;33m)\u001B[0m\u001B[1;33m:\u001B[0m\u001B[1;33m\u001B[0m\u001B[1;33m\u001B[0m\u001B[0m\n",
      "\u001B[1;32mc:\\users\\gijs-\\documents\\code_projects\\study\\deep_learning\\venv\\lib\\site-packages\\torch\\distributions\\distribution.py\u001B[0m in \u001B[0;36m__init__\u001B[1;34m(self, batch_shape, event_shape, validate_args)\u001B[0m\n\u001B[0;32m     50\u001B[0m                 \u001B[1;32mif\u001B[0m \u001B[0mparam\u001B[0m \u001B[1;32mnot\u001B[0m \u001B[1;32min\u001B[0m \u001B[0mself\u001B[0m\u001B[1;33m.\u001B[0m\u001B[0m__dict__\u001B[0m \u001B[1;32mand\u001B[0m \u001B[0misinstance\u001B[0m\u001B[1;33m(\u001B[0m\u001B[0mgetattr\u001B[0m\u001B[1;33m(\u001B[0m\u001B[0mtype\u001B[0m\u001B[1;33m(\u001B[0m\u001B[0mself\u001B[0m\u001B[1;33m)\u001B[0m\u001B[1;33m,\u001B[0m \u001B[0mparam\u001B[0m\u001B[1;33m)\u001B[0m\u001B[1;33m,\u001B[0m \u001B[0mlazy_property\u001B[0m\u001B[1;33m)\u001B[0m\u001B[1;33m:\u001B[0m\u001B[1;33m\u001B[0m\u001B[1;33m\u001B[0m\u001B[0m\n\u001B[0;32m     51\u001B[0m                     \u001B[1;32mcontinue\u001B[0m  \u001B[1;31m# skip checking lazily-constructed args\u001B[0m\u001B[1;33m\u001B[0m\u001B[1;33m\u001B[0m\u001B[0m\n\u001B[1;32m---> 52\u001B[1;33m                 \u001B[1;32mif\u001B[0m \u001B[1;32mnot\u001B[0m \u001B[0mconstraint\u001B[0m\u001B[1;33m.\u001B[0m\u001B[0mcheck\u001B[0m\u001B[1;33m(\u001B[0m\u001B[0mgetattr\u001B[0m\u001B[1;33m(\u001B[0m\u001B[0mself\u001B[0m\u001B[1;33m,\u001B[0m \u001B[0mparam\u001B[0m\u001B[1;33m)\u001B[0m\u001B[1;33m)\u001B[0m\u001B[1;33m.\u001B[0m\u001B[0mall\u001B[0m\u001B[1;33m(\u001B[0m\u001B[1;33m)\u001B[0m\u001B[1;33m:\u001B[0m\u001B[1;33m\u001B[0m\u001B[1;33m\u001B[0m\u001B[0m\n\u001B[0m\u001B[0;32m     53\u001B[0m                     \u001B[1;32mraise\u001B[0m \u001B[0mValueError\u001B[0m\u001B[1;33m(\u001B[0m\u001B[1;34m\"The parameter {} has invalid values\"\u001B[0m\u001B[1;33m.\u001B[0m\u001B[0mformat\u001B[0m\u001B[1;33m(\u001B[0m\u001B[0mparam\u001B[0m\u001B[1;33m)\u001B[0m\u001B[1;33m)\u001B[0m\u001B[1;33m\u001B[0m\u001B[1;33m\u001B[0m\u001B[0m\n\u001B[0;32m     54\u001B[0m         \u001B[0msuper\u001B[0m\u001B[1;33m(\u001B[0m\u001B[0mDistribution\u001B[0m\u001B[1;33m,\u001B[0m \u001B[0mself\u001B[0m\u001B[1;33m)\u001B[0m\u001B[1;33m.\u001B[0m\u001B[0m__init__\u001B[0m\u001B[1;33m(\u001B[0m\u001B[1;33m)\u001B[0m\u001B[1;33m\u001B[0m\u001B[1;33m\u001B[0m\u001B[0m\n",
      "\u001B[1;32mc:\\users\\gijs-\\documents\\code_projects\\study\\deep_learning\\venv\\lib\\site-packages\\torch\\distributions\\constraints.py\u001B[0m in \u001B[0;36mcheck\u001B[1;34m(self, value)\u001B[0m\n\u001B[0;32m    200\u001B[0m \u001B[1;33m\u001B[0m\u001B[0m\n\u001B[0;32m    201\u001B[0m     \u001B[1;32mdef\u001B[0m \u001B[0mcheck\u001B[0m\u001B[1;33m(\u001B[0m\u001B[0mself\u001B[0m\u001B[1;33m,\u001B[0m \u001B[0mvalue\u001B[0m\u001B[1;33m)\u001B[0m\u001B[1;33m:\u001B[0m\u001B[1;33m\u001B[0m\u001B[1;33m\u001B[0m\u001B[0m\n\u001B[1;32m--> 202\u001B[1;33m         \u001B[0mresult\u001B[0m \u001B[1;33m=\u001B[0m \u001B[0mself\u001B[0m\u001B[1;33m.\u001B[0m\u001B[0mbase_constraint\u001B[0m\u001B[1;33m.\u001B[0m\u001B[0mcheck\u001B[0m\u001B[1;33m(\u001B[0m\u001B[0mvalue\u001B[0m\u001B[1;33m)\u001B[0m\u001B[1;33m\u001B[0m\u001B[1;33m\u001B[0m\u001B[0m\n\u001B[0m\u001B[0;32m    203\u001B[0m         \u001B[1;32mif\u001B[0m \u001B[0mresult\u001B[0m\u001B[1;33m.\u001B[0m\u001B[0mdim\u001B[0m\u001B[1;33m(\u001B[0m\u001B[1;33m)\u001B[0m \u001B[1;33m<\u001B[0m \u001B[0mself\u001B[0m\u001B[1;33m.\u001B[0m\u001B[0mreinterpreted_batch_ndims\u001B[0m\u001B[1;33m:\u001B[0m\u001B[1;33m\u001B[0m\u001B[1;33m\u001B[0m\u001B[0m\n\u001B[0;32m    204\u001B[0m             \u001B[0mexpected\u001B[0m \u001B[1;33m=\u001B[0m \u001B[0mself\u001B[0m\u001B[1;33m.\u001B[0m\u001B[0mbase_constraint\u001B[0m\u001B[1;33m.\u001B[0m\u001B[0mevent_dim\u001B[0m \u001B[1;33m+\u001B[0m \u001B[0mself\u001B[0m\u001B[1;33m.\u001B[0m\u001B[0mreinterpreted_batch_ndims\u001B[0m\u001B[1;33m\u001B[0m\u001B[1;33m\u001B[0m\u001B[0m\n",
      "\u001B[1;32mc:\\users\\gijs-\\documents\\code_projects\\study\\deep_learning\\venv\\lib\\site-packages\\torch\\distributions\\constraints.py\u001B[0m in \u001B[0;36mcheck\u001B[1;34m(self, value)\u001B[0m\n\u001B[0;32m    299\u001B[0m     \"\"\"\n\u001B[0;32m    300\u001B[0m     \u001B[1;32mdef\u001B[0m \u001B[0mcheck\u001B[0m\u001B[1;33m(\u001B[0m\u001B[0mself\u001B[0m\u001B[1;33m,\u001B[0m \u001B[0mvalue\u001B[0m\u001B[1;33m)\u001B[0m\u001B[1;33m:\u001B[0m\u001B[1;33m\u001B[0m\u001B[1;33m\u001B[0m\u001B[0m\n\u001B[1;32m--> 301\u001B[1;33m         \u001B[1;32mreturn\u001B[0m \u001B[0mvalue\u001B[0m \u001B[1;33m==\u001B[0m \u001B[0mvalue\u001B[0m  \u001B[1;31m# False for NANs.\u001B[0m\u001B[1;33m\u001B[0m\u001B[1;33m\u001B[0m\u001B[0m\n\u001B[0m\u001B[0;32m    302\u001B[0m \u001B[1;33m\u001B[0m\u001B[0m\n\u001B[0;32m    303\u001B[0m \u001B[1;33m\u001B[0m\u001B[0m\n",
      "\u001B[1;31mKeyboardInterrupt\u001B[0m: "
     ]
    }
   ],
   "source": [
    "args = \"--env-name Warehouse --yaml-file IAM_static --recurrent-policy --num-processes 1 --num-steps 8 --num-mini-batch 1 --log-interval 30 --use-linear-lr-decay --entropy-coef 0.01 --algo ppo --use-gae --lr 2.5e-4 --clip-param 0.1 --value-loss-coef 1\"\n",
    "arg_list = args.split(\" \")\n",
    "main = Main(arg_list)\n",
    "main.run()"
   ]
  },
  {
   "cell_type": "code",
   "execution_count": null,
   "metadata": {
    "pycharm": {
     "name": "#%%\n"
    }
   },
   "outputs": [],
   "source": [
    "# Trained IAM model: Missing total training time.\n",
    "# This was one of the first runs. Using a GRU as RNN\n",
    "plot_data(\"output03-29-2021-19-53-54.txt\")"
   ]
  },
  {
   "cell_type": "markdown",
   "metadata": {},
   "source": [
    "IAM dynamic network on Breakout"
   ]
  },
  {
   "cell_type": "code",
   "execution_count": null,
   "metadata": {
    "pycharm": {
     "name": "#%%\n"
    }
   },
   "outputs": [],
   "source": [
    "args = \"--env-name BreakoutNoFrameskip-v4 --yaml-file IAM_static --fnn-hidden-sizes 256 --rec-hidden-size 256 --recurrent-policy --num-processes 8 --num-steps 8 --num-mini-batch 1 --cuda-deterministic --log-interval 30 --use-linear-lr-decay --entropy-coef 0.01 --algo ppo --use-gae --lr 2.5e-4 --clip-param 0.1 --value-loss-coef 1\"\n",
    "arg_list = args.split(\" \")\n",
    "main = Main(arg_list)\n",
    "main.run()"
   ]
  },
  {
   "cell_type": "code",
   "execution_count": null,
   "outputs": [],
   "source": [
    "# Trained IAM model with static d set. Which is currently a linear layer which process the input by calling it with input as parameter.\n",
    "# Doesnt work well :(\n",
    "plot_data(\"output03-31-2021-23-16-25.txt\")\n"
   ],
   "metadata": {
    "collapsed": false,
    "pycharm": {
     "name": "#%%\n"
    }
   }
  },
  {
   "cell_type": "code",
   "execution_count": null,
   "metadata": {
    "pycharm": {
     "name": "#%%\n"
    }
   },
   "outputs": [],
   "source": [
    "plot_data(\"output03-31-2021-20-56-12.txt\")"
   ]
  },
  {
   "cell_type": "code",
   "execution_count": null,
   "metadata": {
    "pycharm": {
     "name": "#%%\n"
    }
   },
   "outputs": [],
   "source": [
    "# Redoing IAM network on Warehouse with IAMBase model this time including the A matrix. But still not sure if correctly implemented.\n",
    "# --env-name Warehouse --yaml-file IAM_static --fnn-hidden-sizes 256 --recurrent-policy --num-processes 8 --num-steps 8 --num-mini-batch 1 --log-interval 30 --use-linear-lr-decay --entropy-coef 0.01 --algo ppo --use-gae --lr 2.5e-4 --clip-param 0.1 --value-loss-coef 1 --cuda-deterministic\n",
    "plot_data(\"output03-31-2021-22-39-40.txt\")"
   ]
  },
  {
   "cell_type": "code",
   "execution_count": null,
   "metadata": {},
   "outputs": [],
   "source": [
    "# Redoing IAM network on Warehouse with IAMBase model with reduced hidden rnn size of 25\n",
    "# --env-name Warehouse --yaml-file IAM_static --fnn-hidden-sizes 256 --rec-hidden-size 25 --num-processes 8 --num-steps 8 --num-mini-batch 1  --recurrent-policy --log-interval 30 --use-linear-lr-decay --entropy-coef 0.01 --algo ppo --use-gae --lr 2.5e-4 --clip-param 0.1 --value-loss-coef 1\n",
    "plot_data(\"output04-02-2021-16-17-06.txt\")"
   ]
  },
  {
   "cell_type": "code",
   "execution_count": null,
   "outputs": [],
   "source": [
    "\n",
    "\n",
    "# Loading model and plot weights\n",
    "import torch\n",
    "import matplotlib.pyplot as plt\n",
    "import numpy as np\n",
    "from reproduction_model import IAMPolicy, IAMBase\n",
    "# path = 'trained_models\\ppo\\Warehouse_03-31-2021-23-15-04.pt'\n",
    "path = 'trained_models\\ppo\\Warehouse_03-31-2021-23-16-25.pt'\n",
    "iam_policy: IAMPolicy = torch.load(path)[0]\n",
    "base: IAMBase = iam_policy.base\n",
    "# base.static_A_matrix.weight\n",
    "\n",
    "plt.figure()\n",
    "agent_pos = base.static_A_matrix.weight.cpu().detach().numpy()\n",
    "plt.imshow(base.static_A_matrix.weight.cpu().detach().numpy())\n",
    "plt.show()\n",
    "item_squares = base.static_A_matrix.bias.cpu().detach().numpy()[49:]\n",
    "img = np.empty((7,7))\n",
    "img[0,:] = item_squares[:7]\n",
    "for i in range(0,5):\n",
    "    img[i+1,0] = item_squares[7+i*2]\n",
    "    img[i+1,-1] = item_squares[7+i*2+1]\n",
    "img[-1,:] = item_squares[24-7:]\n",
    "\n",
    "for x in range(7):\n",
    "    for y in range(7):\n",
    "        img[x,y] += agent_pos[x,y]\n",
    "plt.imshow(img)\n",
    "plt.show()"
   ],
   "metadata": {
    "collapsed": false,
    "pycharm": {
     "name": "#%%\n"
    }
   }
  },
  {
   "cell_type": "code",
   "execution_count": null,
   "outputs": [],
   "source": [
    "# Running Warehouse IAM-128 3 times with command:\n",
    "# This was the first run: However I think we need to change to a mini batch of 8 since it might get better results\n",
    "args = \"--env-name Warehouse --yaml-file IAM_static --fnn-hidden-sizes 512,256 --rec-hidden-size 128 --algo ppo --recurrent-policy --use-gae --lr 2.5e-4 --clip-param 0.1 --value-loss-coef 1 --num-processes 10 --num-steps 8 --num-mini-batch 4 --log-interval 100 --use-linear-lr-decay --entropy-coef 0.01\"\n",
    "\n",
    "plot_data(\"output04-06-2021-17-29-07.txt\")\n",
    "# plot_data(\"output04-06-2021-23-01-04.txt\")\n",
    "# plot_data(\"output04-07-2021-04-04-57.txt\")\n",
    "plot_runs([\"output04-06-2021-17-29-07.txt\", \"output04-06-2021-23-01-04.txt\", \"output04-07-2021-04-04-57.txt\"], show=True)"
   ],
   "metadata": {
    "collapsed": false,
    "pycharm": {
     "name": "#%%\n"
    }
   }
  },
  {
   "cell_type": "code",
   "execution_count": null,
   "outputs": [],
   "source": [
    "# Run of FNN 3 times with command:\n",
    "\n",
    "plot_data(\"output04-07-2021-11-47-30.txt\")"
   ],
   "metadata": {
    "collapsed": false,
    "pycharm": {
     "name": "#%%\n"
    }
   }
  },
  {
   "cell_type": "code",
   "execution_count": null,
   "outputs": [],
   "source": [
    "# Combine data of IAM and plot:\n",
    "average_over_steps = 400000\n",
    "average_time = plot_runs([\"output04-06-2021-17-29-07.txt\", \"output04-06-2021-23-01-04.txt\", \"output04-07-2021-04-04-57.txt\"],average_over_last_steps=average_over_steps, show=False)\n",
    "average_time_FNN = plot_runs([\"output04-07-2021-11-47-30.txt\", \"output04-07-2021-15-27-18.txt\", \"output04-07-2021-19-14-23.txt\"],average_over_last_steps=average_over_steps, show=False)\n",
    "plt.xlabel(\"IAM and FNN\")\n",
    "plt.show()\n",
    "print(\"average_over_steps:\", average_over_steps)\n",
    "# Interesting to see that the IAM model took much more time compared to the FNN\n",
    "# Also note that there is a lot more variance in the IAM model.\n",
    "print(\"Elapsed time average IAM:\", average_time//60/60, \" Hours\")\n",
    "print(\"Elapsed time average FNN:\", average_time_FNN//60/60, \" Hours\")"
   ],
   "metadata": {
    "collapsed": false,
    "pycharm": {
     "name": "#%%\n"
    }
   }
  },
  {
   "cell_type": "code",
   "execution_count": null,
   "metadata": {
    "pycharm": {
     "name": "#%%\n"
    }
   },
   "outputs": [],
   "source": [
    "import torch\n",
    "# Gijs: I checked and can have a max of 6 threads. Check your computer by calling this in your regular python console: import torch; torch.get_num_threads()\n",
    "torch.set_num_threads(8)\n",
    "# Running Warehouse FNN 8 obs 3 times with command:\n",
    "args = \"--env-name Warehouse --yaml-file FNN --fnn-hidden-sizes 640,256 --algo ppo --use-gae --lr 2.5e-4 --clip-param 0.1 --value-loss-coef 1 --num-processes 8 --num-steps 1 --num-mini-batch 8 --log-interval 100 --use-linear-lr-decay --entropy-coef 0.01\"\n",
    "arg_list = args.split(\" \")\n",
    "for i in range(0,3):\n",
    "    seed_arg = ['--seed', str(10*i)]\n",
    "    main = Main(arg_list + seed_arg)\n",
    "    main.run()\n",
    "    plot_data(\"output\"+main.data_saver.file_name)"
   ]
  },
  {
   "cell_type": "code",
   "execution_count": null,
   "outputs": [],
   "source": [
    "import torch\n",
    "torch.set_num_threads(8)\n",
    "args = \"--env-name Warehouse --yaml-file IAM_static --fnn-hidden-sizes 512,256 --rec-hidden-size 128 --algo ppo --recurrent-policy --use-gae --lr 2.5e-4 --clip-param 0.1 --value-loss-coef 1 --num-processes 32 --num-steps 8 --num-mini-batch 32 --log-interval 100 --use-linear-lr-decay --entropy-coef 0.01 --cuda-deterministic\"\n",
    "arg_list = args.split(\" \")\n",
    "for i in range(0,3):\n",
    "    seed_arg = ['--seed', str(10*i)]\n",
    "    main = Main(arg_list + seed_arg)\n",
    "    main.run()\n",
    "    plot_data(\"output\"+main.data_saver.file_name)"
   ],
   "metadata": {
    "collapsed": false,
    "pycharm": {
     "name": "#%%\n"
    }
   }
  },
  {
   "cell_type": "code",
   "execution_count": null,
   "outputs": [],
   "source": [
    "# Running IAM_static with mini batch of 32. Works way better!\n",
    "plot_data(\"output04-08-2021-08-23-05.txt\")"
   ],
   "metadata": {
    "collapsed": false,
    "pycharm": {
     "name": "#%%\n"
    }
   }
  },
  {
   "cell_type": "code",
   "execution_count": null,
   "outputs": [],
   "source": [
    "# Running single GRU-128 3 times minibatch 8\n",
    "average_time_GRU = plot_runs([\"output04-08-2021-13-41-34.txt\", \"output04-08-2021-17-47-32.txt\", \"output04-08-2021-21-51-57.txt\"], show=True)\n",
    "print(average_time_GRU)\n"
   ],
   "metadata": {
    "collapsed": false,
    "pycharm": {
     "name": "#%%\n"
    }
   }
  },
  {
   "cell_type": "code",
   "execution_count": 30,
   "outputs": [
    {
     "name": "stdout",
     "output_type": "stream",
     "text": [
      "IAM-128:\n",
      "data/output04-06-2021-17-29-07.txt\n",
      "data/output04-06-2021-23-01-04.txt\n",
      "data/output04-07-2021-04-04-57.txt\n",
      "Final reward:  30.718954248366014\n",
      "FNN 8 obs:\n",
      "data/output04-07-2021-11-47-30.txt\n",
      "data/output04-07-2021-15-27-18.txt\n",
      "data/output04-07-2021-19-14-23.txt\n",
      "Final reward:  28.97354497354498\n",
      "GRU:\n",
      "data/output04-08-2021-13-41-34.txt\n",
      "data/output04-08-2021-17-47-32.txt\n",
      "data/output04-08-2021-21-51-57.txt\n",
      "Final reward:  33.592592592592574\n",
      "4.067370733287599\n"
     ]
    },
    {
     "data": {
      "text/plain": "<Figure size 432x288 with 1 Axes>",
      "image/png": "[encoded data removed]"
     },
     "metadata": {
      "needs_background": "light"
     },
     "output_type": "display_data"
    }
   ],
   "source": [
    "#Combining all all have mini batch of 8\n",
    "average_over_steps = 400000\n",
    "print(\"IAM-128:\")\n",
    "average_time_IAM = plot_runs([\"output04-06-2021-17-29-07.txt\", \"output04-06-2021-23-01-04.txt\", \"output04-07-2021-04-04-57.txt\"],average_over_last_steps=average_over_steps, show=False)\n",
    "print(\"FNN 8 obs:\")\n",
    "average_time_FNN = plot_runs([\"output04-07-2021-11-47-30.txt\", \"output04-07-2021-15-27-18.txt\", \"output04-07-2021-19-14-23.txt\"],average_over_last_steps=average_over_steps, show=False)\n",
    "# plot_data(\"output04-08-2021-08-23-05.txt\", show=False)\n",
    "print(\"GRU:\")\n",
    "average_time_GRU = plot_runs([\"output04-08-2021-13-41-34.txt\", \"output04-08-2021-17-47-32.txt\", \"output04-08-2021-21-51-57.txt\"],average_over_last_steps=average_over_steps, show=True)"
   ],
   "metadata": {
    "collapsed": false,
    "pycharm": {
     "name": "#%%\n"
    }
   }
  },
  {
   "cell_type": "code",
   "execution_count": null,
   "outputs": [],
   "source": [
    "# GRU and IAM run with minibatch 32average_over_steps = 400000\n",
    "average_over_steps = 600000\n",
    "\n",
    "average_time_GRU_batch32 = plot_runs([\"output04-09-2021-09-38-00.txt\", \"output04-09-2021-13-24-28.txt\", \"output04-09-2021-17-06-24.txt\"], average_over_last_steps=average_over_steps, show=False)\n",
    "\n",
    "#IAM also minibatch 32\n",
    "plot_data(\"output04-08-2021-08-23-05.txt\", average_over_last_steps=average_over_steps)"
   ],
   "metadata": {
    "collapsed": false,
    "pycharm": {
     "name": "#%%\n"
    }
   }
  }
 ],
 "metadata": {
  "accelerator": "GPU",
  "colab": {
   "collapsed_sections": [],
   "name": "Kopie van Assignment_4.ipynb",
   "provenance": [],
   "toc_visible": true
  },
  "kernelspec": {
   "display_name": "Python 3",
   "language": "python",
   "name": "python3"
  },
  "language_info": {
   "codemirror_mode": {
    "name": "ipython",
    "version": 3
   },
   "file_extension": ".py",
   "mimetype": "text/x-python",
   "name": "python",
   "nbconvert_exporter": "python",
   "pygments_lexer": "ipython3",
   "version": "3.8.6"
  }
 },
 "nbformat": 4,
 "nbformat_minor": 1
}